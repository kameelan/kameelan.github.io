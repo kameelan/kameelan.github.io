{
 "cells": [
  {
   "cell_type": "code",
   "execution_count": 4,
   "metadata": {},
   "outputs": [
    {
     "name": "stdout",
     "output_type": "stream",
     "text": [
      "   Unnamed: 0  winner  Picks  age         state  gender cleaned_race_eth  \\\n",
      "0           1       0     18   36  Rhode Island    Male            Black   \n",
      "1           2       0     17   35    California  Female            Other   \n",
      "2           3       1    229   25    California    Male            White   \n",
      "3           4       0    143   28    California    Male            White   \n",
      "4           5       0    112   32         Texas    Male            Black   \n",
      "\n",
      "                                          occupation personality_type  \n",
      "0                                          Gym Owner             ESTJ  \n",
      "1                                   Business Student             ESFP  \n",
      "2  Homeless Shelter Manager;Keynote Speaker and Host             ENTP  \n",
      "3  Homeless Shelter Manager;Keynote Speaker and Host             ENTP  \n",
      "4                                         NFL Player             ISTP  \n"
     ]
    },
    {
     "data": {
      "text/plain": [
       "((200, 233), (51, 233))"
      ]
     },
     "execution_count": 4,
     "metadata": {},
     "output_type": "execute_result"
    }
   ],
   "source": [
    "import pandas as pd\n",
    "from sklearn.model_selection import train_test_split\n",
    "from sklearn.preprocessing import OneHotEncoder, StandardScaler\n",
    "from sklearn.compose import ColumnTransformer\n",
    "from sklearn.pipeline import Pipeline\n",
    "# Load the data\n",
    "file_path = \"C:\\R\\portfolio\\data_model.csv\"\n",
    "data = pd.read_csv(file_path)\n",
    "\n",
    "# Display the first few rows of the data to understand its structure\n",
    "print(data.head())\n",
    "\n",
    "# Drop the index column\n",
    "data_cleaned = data.drop(columns=['Unnamed: 0'])\n",
    "data_cleaned.head()\n",
    "# Define features and target variable\n",
    "X = data_cleaned.drop(columns=['winner'])\n",
    "y = data_cleaned['winner']\n",
    "#y.head()\n",
    "# Identify categorical and numerical features\n",
    "categorical_features = ['state', 'gender', 'cleaned_race_eth', 'occupation', 'personality_type']\n",
    "numerical_features = ['Picks', 'age']\n",
    "\n",
    "# Create a preprocessing pipeline\n",
    "preprocessor = ColumnTransformer(\n",
    "    transformers=[\n",
    "        ('num', StandardScaler(), numerical_features),\n",
    "        ('cat', OneHotEncoder(handle_unknown='ignore'), categorical_features)\n",
    "    ]\n",
    ")\n",
    "\n",
    "# Split the data into training and testing sets\n",
    "X_train, X_test, y_train, y_test = train_test_split(X, y, test_size=0.2, random_state=42, stratify=y)\n",
    "\n",
    "# Apply preprocessing to the training and testing data\n",
    "X_train_processed = preprocessor.fit_transform(X_train)\n",
    "X_test_processed = preprocessor.transform(X_test)\n",
    "\n",
    "X_train_processed.shape, X_test_processed.shape\n",
    "\n"
   ]
  }
 ],
 "metadata": {
  "kernelspec": {
   "display_name": "Python 3",
   "language": "python",
   "name": "python3"
  },
  "language_info": {
   "codemirror_mode": {
    "name": "ipython",
    "version": 3
   },
   "file_extension": ".py",
   "mimetype": "text/x-python",
   "name": "python",
   "nbconvert_exporter": "python",
   "pygments_lexer": "ipython3",
   "version": "3.11.1"
  }
 },
 "nbformat": 4,
 "nbformat_minor": 2
}
